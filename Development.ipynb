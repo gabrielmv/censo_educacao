{
 "cells": [
  {
   "cell_type": "code",
   "execution_count": 43,
   "id": "b9e00147",
   "metadata": {},
   "outputs": [
    {
     "name": "stdout",
     "output_type": "stream",
     "text": [
      "\u001b[33mWARNING: Running pip install with root privileges is generally not a good idea. Try `pip install --user` instead.\u001b[0m\n",
      "Collecting openpyxl\n",
      "  Downloading https://files.pythonhosted.org/packages/39/08/595298c9b7ced75e7d23be3e7596459980d63bc35112ca765ceccafbe9a4/openpyxl-3.0.7-py2.py3-none-any.whl (243kB)\n",
      "\u001b[K    100% |████████████████████████████████| 245kB 1.5MB/s ta 0:00:01\n",
      "\u001b[?25hCollecting et-xmlfile (from openpyxl)\n",
      "  Downloading https://files.pythonhosted.org/packages/96/c2/3dd434b0108730014f1b96fd286040dc3bcb70066346f7e01ec2ac95865f/et_xmlfile-1.1.0-py3-none-any.whl\n",
      "Installing collected packages: et-xmlfile, openpyxl\n",
      "Successfully installed et-xmlfile-1.1.0 openpyxl-3.0.7\n"
     ]
    }
   ],
   "source": [
    "!pip install openpyxl"
   ]
  },
  {
   "cell_type": "markdown",
   "id": "a4eeaeab",
   "metadata": {},
   "source": [
    "# raw-to-stage"
   ]
  },
  {
   "cell_type": "code",
   "execution_count": 49,
   "id": "702069a8",
   "metadata": {},
   "outputs": [],
   "source": [
    "from pyspark.sql import SparkSession\n",
    "from pyspark.sql.types import *\n",
    "import pandas as pd\n",
    "\n",
    "spark = SparkSession.builder.appName(\"Test\").getOrCreate()"
   ]
  },
  {
   "cell_type": "code",
   "execution_count": 66,
   "id": "ca30ed00",
   "metadata": {},
   "outputs": [],
   "source": [
    "# read parameters\n",
    "\n",
    "source_path = \"raw/microdados_educacao_basica_2020/DADOS/matricula_nordeste.CSV\"\n",
    "target_path = \"stage/censo_educacao/states_and_cities\"\n",
    "mode = \"xlsx\"\n",
    "sheet_name = \"Anexo10 - UFS e Municípios\"\n",
    "skiprows = int(\"3\")\n",
    "\n",
    "source_path = \"raw/microdados_educacao_basica_2020/ANEXOS/ANEXO I - Dicionаrio de Dados e Tabelas Auxiliares/Tabelas Auxiliares.xlsx\"\n"
   ]
  },
  {
   "cell_type": "code",
   "execution_count": 67,
   "id": "c6a4605b",
   "metadata": {},
   "outputs": [],
   "source": [
    "def pandas_to_spark(spark, pandas_df):\n",
    "    pandas_df.columns = pandas_df.columns.str.strip()     \n",
    "    pandas_df.columns = pandas_df.columns.str.replace(' ', '_')         \n",
    "    pandas_df.columns = pandas_df.columns.str.replace(r\"[^a-zA-Z\\d\\_]+\", \"\") \n",
    "    columns = list(pandas_df.columns)\n",
    "    struct_list = []\n",
    "    for column in columns: \n",
    "        struct_list.append(StructField(column, StringType()))\n",
    "    p_schema = StructType(struct_list)\n",
    "    return spark.createDataFrame(pandas_df, p_schema)"
   ]
  },
  {
   "cell_type": "code",
   "execution_count": 68,
   "id": "f87a2a47",
   "metadata": {},
   "outputs": [],
   "source": [
    "if mode == \"xlsx\":\n",
    "    pdf = pd.read_excel(source_path, sheet_name=sheet_name, skiprows=skiprows, skipfooter=1,engine='openpyxl')\n",
    "    df = pandas_to_spark(spark, pdf)\n",
    "else:\n",
    "    df = spark.read.option(\"header\",True).options(delimiter='|').csv(source_path)\n",
    "    \n",
    "df.write.mode(\"overwrite\").parquet(target_path)"
   ]
  },
  {
   "cell_type": "markdown",
   "id": "5bff4e61",
   "metadata": {},
   "source": [
    "# stage-to-curated"
   ]
  },
  {
   "cell_type": "code",
   "execution_count": 22,
   "id": "7e3f4b81",
   "metadata": {},
   "outputs": [],
   "source": [
    "from pyspark.sql import SparkSession\n",
    "from pyspark.sql.functions import col, when"
   ]
  },
  {
   "cell_type": "code",
   "execution_count": 2,
   "id": "a064eb70",
   "metadata": {},
   "outputs": [],
   "source": [
    "spark = SparkSession.builder.appName(\"Test\").getOrCreate()"
   ]
  },
  {
   "cell_type": "code",
   "execution_count": null,
   "id": "964c094d",
   "metadata": {},
   "outputs": [],
   "source": [
    "\"/lake/stage/censo_educacao/enrollment_stages\"\n",
    "\n",
    "\n",
    "\n",
    "\n"
   ]
  },
  {
   "cell_type": "code",
   "execution_count": 6,
   "id": "5137332b",
   "metadata": {},
   "outputs": [],
   "source": [
    "enrollment_stages = spark.read.parquet(\"lake/stage/censo_educacao/enrollment_stages\")"
   ]
  },
  {
   "cell_type": "code",
   "execution_count": 10,
   "id": "21ad6c2d",
   "metadata": {},
   "outputs": [
    {
     "name": "stdout",
     "output_type": "stream",
     "text": [
      "+--------------------+---------------------+\n",
      "| enrollment_stage_id|enrollment_stage_name|\n",
      "+--------------------+---------------------+\n",
      "|                  69| EJA - Ensino Fund...|\n",
      "|                  70| EJA - Ensino Fund...|\n",
      "|                  71|   EJA - Ensino Médio|\n",
      "|                  72| EJA - Ensino Fund...|\n",
      "|                  73| Curso FIC integra...|\n",
      "|                  74| Curso Técnico Int...|\n",
      "|Etapas de Ensino ...|                  NaN|\n",
      "|                   4| Ensino Fundamenta...|\n",
      "|                   5| Ensino Fundamenta...|\n",
      "|                   6| Ensino Fundamenta...|\n",
      "|                   7| Ensino Fundamenta...|\n",
      "|                   8| Ensino Fundamenta...|\n",
      "|                   9| Ensino Fundamenta...|\n",
      "|                  10| Ensino Fundamenta...|\n",
      "|                  11| Ensino Fundamenta...|\n",
      "|                  12| Ensino Fundamenta...|\n",
      "|                  13| Ensino Fundamenta...|\n",
      "|                  24| Ensino Fundamenta...|\n",
      "|                  40| Curso Técnico  - ...|\n",
      "|                  41| Ensino Fundamenta...|\n",
      "|                  56| Educação Infantil...|\n",
      "|                  64|  Curso Técnico Misto|\n",
      "|                  67| Curso FIC integra...|\n",
      "|                  68| Curso FIC Concomi...|\n",
      "|                  28| Ensino Médio - 4ª...|\n",
      "|                  29| Ensino Médio - Nã...|\n",
      "|                  30| Curso Técnico Int...|\n",
      "|                  31| Curso Técnico Int...|\n",
      "|                  32| Curso Técnico Int...|\n",
      "|                  33| Curso Técnico Int...|\n",
      "|                  34| Curso Técnico Int...|\n",
      "|                  35| Ensino Médio - No...|\n",
      "|                  36| Ensino Médio - No...|\n",
      "|                  37| Ensino Médio - No...|\n",
      "|                  38| Ensino Médio - No...|\n",
      "|                  39| Curso Técnico  - ...|\n",
      "|                 NaN|                  NaN|\n",
      "|                 NaN|                  NaN|\n",
      "|                   1| Educação Infantil...|\n",
      "|                   2| Educação Infantil...|\n",
      "|                   3| Educação Infantil...|\n",
      "|                  14| Ensino Fundamenta...|\n",
      "|                  21| Ensino Fundamenta...|\n",
      "|                  22| Ensino Fundamenta...|\n",
      "|                  23| Ensino Fundamenta...|\n",
      "|                  25| Ensino Médio - 1ª...|\n",
      "|                  26| Ensino Médio - 2ª...|\n",
      "|                  27| Ensino Médio - 3ª...|\n",
      "|                  15| Ensino Fundamenta...|\n",
      "|                  16| Ensino Fundamenta...|\n",
      "|                  17| Ensino Fundamenta...|\n",
      "|                  18| Ensino Fundamenta...|\n",
      "|                  19| Ensino Fundamenta...|\n",
      "|                  20| Ensino Fundamenta...|\n",
      "+--------------------+---------------------+\n",
      "\n"
     ]
    }
   ],
   "source": [
    "enrollment_stages.select(\n",
    "    col(\"Cdigo\").alias(\"enrollment_stage_id\"),\n",
    "    col(\"Nome_Etapa\").alias(\"enrollment_stage_name\")\n",
    ").show(1000)"
   ]
  },
  {
   "cell_type": "code",
   "execution_count": null,
   "id": "7601cab8",
   "metadata": {},
   "outputs": [],
   "source": []
  },
  {
   "cell_type": "code",
   "execution_count": null,
   "id": "6f99ff7e",
   "metadata": {},
   "outputs": [],
   "source": []
  },
  {
   "cell_type": "code",
   "execution_count": 14,
   "id": "67e757f3",
   "metadata": {},
   "outputs": [],
   "source": [
    "# read parameters\n",
    "\n",
    "source_path = \"lake/stage/censo_educacao/\"\n",
    "target_path = \"lake/stage/censo_educacao/fact_table\"\n",
    "\n",
    "tables = [\n",
    "    \"matricula_co\",\n",
    "    \"matricula_norte\",\n",
    "    \"matricula_nordeste\",\n",
    "    \"matricula_sudeste\",\n",
    "    \"matricula_sul\"\n",
    "]\n",
    "\n",
    "aux_tables = [\n",
    "    \"states_and_cities\",\n",
    "    \"enrollment_stages\"\n",
    "]"
   ]
  },
  {
   "cell_type": "code",
   "execution_count": 29,
   "id": "b666b8b3",
   "metadata": {},
   "outputs": [],
   "source": [
    "dfs = {}\n",
    "for table in tables:\n",
    "    dfs[table] = spark.read.parquet(source_path + table)\n",
    "    \n",
    "aux_dfs = {}\n",
    "for table in aux_tables:\n",
    "    aux_dfs[table] = spark.read.parquet(source_path + table)"
   ]
  },
  {
   "cell_type": "code",
   "execution_count": 30,
   "id": "1130a336",
   "metadata": {},
   "outputs": [],
   "source": [
    "aux_dfs[\"region\"] = aux_dfs[\"states_and_cities\"].select(\n",
    "    col(\"Cdigo_da_Regio\").alias(\"region_id\"),\n",
    "    col(\"Nome_da_Regio\").alias(\"region_name\")\n",
    ").dropDuplicates()\\\n",
    ".filter(~col(\"region_id\").like(\"CO_%\"))\\\n",
    ".filter(~col(\"region_id\").like(\"NaN\"))\n",
    "\n",
    "aux_dfs[\"state\"] = aux_dfs[\"states_and_cities\"].select(\n",
    "    col(\"Cdigo_da_UF\").alias(\"state_id\"),\n",
    "    col(\"Nome_da_UF\").alias(\"state_name\"),\n",
    "    col(\"Sigla_da_UF\").alias(\"state_abrv\")\n",
    ").dropDuplicates()\\\n",
    ".filter(~col(\"state_id\").like(\"CO_%\"))\\\n",
    ".filter(~col(\"state_id\").like(\"NaN\"))\n",
    "\n",
    "aux_dfs[\"cities\"] = aux_dfs[\"states_and_cities\"].select(\n",
    "    col(\"Cdigo_do_Municpio\").alias(\"city_id\"),\n",
    "    col(\"Nome_do_Municpio\").alias(\"city_name\")\n",
    ").dropDuplicates()\\\n",
    ".filter(~col(\"city_id\").like(\"CO_%\"))\\\n",
    ".filter(~col(\"city_id\").like(\"NaN\"))\n",
    "\n",
    "aux_dfs[\"enrollment_stages\"] = aux_dfs[\"enrollment_stages\"].select(\n",
    "    col(\"Cdigo\").alias(\"enrollment_stage_id\"),\n",
    "    col(\"Nome_Etapa\").alias(\"enrollment_stage_name\")\n",
    ").dropDuplicates()\\\n",
    ".filter(~col(\"enrollment_stage_id\").like(\"NaN\"))\\\n",
    ".filter(~col(\"enrollment_stage_name\").like(\"NaN\"))"
   ]
  },
  {
   "cell_type": "code",
   "execution_count": 31,
   "id": "4b4a4152",
   "metadata": {},
   "outputs": [],
   "source": [
    "for table in tables:\n",
    "    dfs[table] = dfs[table].join(aux_dfs[\"region\"], dfs[table][\"CO_REGIAO\"] == aux_dfs[\"region\"][\"region_id\"], \"left\")\n",
    "    dfs[table] = dfs[table].join(aux_dfs[\"state\"], dfs[table][\"CO_UF\"] == aux_dfs[\"state\"][\"state_id\"], \"left\")\n",
    "    dfs[table] = dfs[table].join(aux_dfs[\"cities\"], dfs[table][\"CO_MUNICIPIO\"] == aux_dfs[\"cities\"][\"city_id\"], \"left\")\n",
    "    \n",
    "    dfs[table] = dfs[table].withColumn(\"student_gender\", \n",
    "                                       when(dfs[table][\"TP_SEXO\"] == \"1\",\"Male\")\n",
    "                                       .when(dfs[table][\"TP_SEXO\"] == \"2\",\"Female\")\n",
    "                                       .otherwise(\"Other\"))\n",
    "    \n",
    "    dfs[table] = dfs[table].withColumn(\"student_ethnicity\", \n",
    "                                       when(dfs[table][\"TP_COR_RACA\"] == \"1\",\"Branca\")\n",
    "                                       .when(dfs[table][\"TP_COR_RACA\"] == \"2\",\"Preta\")\n",
    "                                       .when(dfs[table][\"TP_COR_RACA\"] == \"3\",\"Parda\")\n",
    "                                       .when(dfs[table][\"TP_COR_RACA\"] == \"4\",\"Amarela\")\n",
    "                                       .when(dfs[table][\"TP_COR_RACA\"] == \"5\",\"Indígena\")\n",
    "                                       .otherwise(\"Não declarada\"))\n",
    "    \n",
    "    dfs[table] = dfs[table].select(\n",
    "        col(\"ID_ALUNO\").alias(\"student_id\"),\n",
    "        col(\"ID_MATRICULA\").alias(\"enrollment_id\"),\n",
    "        col(\"NU_IDADE\").alias(\"student_age\"),\n",
    "        col(\"student_gender\"),\n",
    "        col(\"student_ethnicity\"),\n",
    "        col(\"IN_NECESSIDADE_ESPECIAL\").alias(\"has_special_needs\"),\n",
    "        col(\"IN_BAIXA_VISAO\").alias(\"is_vision_impaired\"),\n",
    "        col(\"IN_CEGUEIRA\").alias(\"is_blind\"),\n",
    "        col(\"IN_DEF_AUDITIVA\").alias(\"is_hearing_impaired\"),\n",
    "        col(\"IN_DEF_FISICA\").alias(\"is_physically_handicapped\"),\n",
    "        col(\"IN_DEF_INTELECTUAL\").alias(\"is_intellectual_disabled\"),\n",
    "        col(\"IN_SURDEZ\").alias(\"is_deaf\"),\n",
    "        col(\"IN_SURDOCEGUEIRA\").alias(\"is_deaf_blind\"),\n",
    "        col(\"IN_DEF_MULTIPLA\").alias(\"is_multiple_impaired\"),\n",
    "        col(\"IN_AUTISMO\").alias(\"is_autist\"),\n",
    "        col(\"IN_SUPERDOTACAO\").alias(\"is_gifted\"),\n",
    "        col(\"TP_ETAPA_ENSINO\").alias(\"enrollment_stage_id\"),\n",
    "        col(\"region_id\"),\n",
    "        col(\"region_name\"),\n",
    "        col(\"state_id\"),\n",
    "        col(\"state_name\"),\n",
    "        col(\"state_abrv\"),\n",
    "        col(\"city_id\"),\n",
    "        col(\"city_name\")\n",
    "    )\n",
    "    \n",
    "#     df2=df.select(col(\"*\"),when(df.gender == \"1\",\"Male\")\n",
    "#                   .when(df.gender == \"2\",\"Female\")\n",
    "#                   .when(df.gender.isNull() ,\"\")\n",
    "#                   .otherwise(df.gender).alias(\"new_gender\"))\n",
    "\n",
    "    \n",
    "#     1 - Masculino 2 - Feminino\n",
    "# 0 - Não declarada 1 - Branca 2 - Preta 3 - Parda 4 - Amarela 5 - Indígena\n",
    "\n",
    "\n"
   ]
  },
  {
   "cell_type": "code",
   "execution_count": null,
   "id": "f344eafb",
   "metadata": {},
   "outputs": [],
   "source": []
  },
  {
   "cell_type": "code",
   "execution_count": 32,
   "id": "7cc7aa63",
   "metadata": {},
   "outputs": [],
   "source": [
    "union_df = dfs[\"matricula_co\"].union(dfs[\"matricula_norte\"])\n",
    "union_df = union_df.union(dfs[\"matricula_nordeste\"])\n",
    "union_df = union_df.union(dfs[\"matricula_sudeste\"])\n",
    "union_df = union_df.union(dfs[\"matricula_sul\"])"
   ]
  },
  {
   "cell_type": "code",
   "execution_count": 131,
   "id": "b924578d",
   "metadata": {},
   "outputs": [],
   "source": [
    "union_df.write.parquet(target_path)"
   ]
  },
  {
   "cell_type": "code",
   "execution_count": 33,
   "id": "52b30455",
   "metadata": {},
   "outputs": [
    {
     "name": "stdout",
     "output_type": "stream",
     "text": [
      "+--------------------+-------------+-----------+--------------+-----------------+-----------------+------------------+--------+-------------------+-------------------------+------------------------+-------+-------------+--------------------+---------+---------+-------------------+---------+------------+--------+------------------+----------+-------+-------------------+\n",
      "|          student_id|enrollment_id|student_age|student_gender|student_ethnicity|has_special_needs|is_vision_impaired|is_blind|is_hearing_impaired|is_physically_handicapped|is_intellectual_disabled|is_deaf|is_deaf_blind|is_multiple_impaired|is_autist|is_gifted|enrollment_stage_id|region_id| region_name|state_id|        state_name|state_abrv|city_id|          city_name|\n",
      "+--------------------+-------------+-----------+--------------+-----------------+-----------------+------------------+--------+-------------------+-------------------------+------------------------+-------+-------------+--------------------+---------+---------+-------------------+---------+------------+--------+------------------+----------+-------+-------------------+\n",
      "|468BD3CEE9F84412B...|    335341211|         12|          Male|            Parda|                0|              null|    null|               null|                     null|                    null|   null|         null|                null|     null|     null|                 20|        5|Centro-Oeste|      51|       Mato Grosso|        MT|5103403|             Cuiabá|\n",
      "|25227DD3EB98F5E7C...|    335341242|          9|          Male|    Não declarada|                0|              null|    null|               null|                     null|                    null|   null|         null|                null|     null|     null|                 17|        5|Centro-Oeste|      52|             Goiás|        GO|5212501|           Luziânia|\n",
      "|848FEA00E2537F8F9...|    335341245|          8|        Female|            Parda|                0|              null|    null|               null|                     null|                    null|   null|         null|                null|     null|     null|                 15|        5|Centro-Oeste|      52|             Goiás|        GO|5221858|Valparaíso de Goiás|\n",
      "|5EF0DED8CA265D2BF...|    335341272|          8|          Male|           Branca|                0|              null|    null|               null|                     null|                    null|   null|         null|                null|     null|     null|                 16|        5|Centro-Oeste|      50|Mato Grosso do Sul|        MS|5002704|       Campo Grande|\n",
      "|75409B3BFA760C294...|    335341279|          8|        Female|    Não declarada|                0|              null|    null|               null|                     null|                    null|   null|         null|                null|     null|     null|                 15|        5|Centro-Oeste|      52|             Goiás|        GO|5220454|     Senador Canedo|\n",
      "|2EB39A33FDFE3B2C0...|    335341306|         14|          Male|           Branca|                0|              null|    null|               null|                     null|                    null|   null|         null|                null|     null|     null|                 41|        5|Centro-Oeste|      50|Mato Grosso do Sul|        MS|5002704|       Campo Grande|\n",
      "|D66C1C521F09772C0...|    335341336|          6|          Male|    Não declarada|                0|              null|    null|               null|                     null|                    null|   null|         null|                null|     null|     null|                 14|        5|Centro-Oeste|      53|  Distrito Federal|        DF|5300108|           Brasília|\n",
      "|95D23021105AB7E08...|    335341409|          8|        Female|    Não declarada|                0|              null|    null|               null|                     null|                    null|   null|         null|                null|     null|     null|                 15|        5|Centro-Oeste|      52|             Goiás|        GO|5208707|            Goiânia|\n",
      "|C2ECDAE2584542BD7...|    335341473|          4|          Male|    Não declarada|                0|              null|    null|               null|                     null|                    null|   null|         null|                null|     null|     null|                  1|        5|Centro-Oeste|      52|             Goiás|        GO|5211503|          Itumbiara|\n",
      "|17CFD811DAC58BC7B...|    335341483|          9|        Female|           Branca|                0|              null|    null|               null|                     null|                    null|   null|         null|                null|     null|     null|                 14|        5|Centro-Oeste|      52|             Goiás|        GO|5208707|            Goiânia|\n",
      "|F6E8E2DB078904AD4...|    335341497|          6|        Female|    Não declarada|                0|              null|    null|               null|                     null|                    null|   null|         null|                null|     null|     null|                  2|        5|Centro-Oeste|      52|             Goiás|        GO|5212501|           Luziânia|\n",
      "|3D39ABC1477FD3330...|    335341628|          8|        Female|    Não declarada|                0|              null|    null|               null|                     null|                    null|   null|         null|                null|     null|     null|                 16|        5|Centro-Oeste|      53|  Distrito Federal|        DF|5300108|           Brasília|\n",
      "|001DFDDD960FF2159...|    335341668|          8|        Female|           Branca|                0|              null|    null|               null|                     null|                    null|   null|         null|                null|     null|     null|                 16|        5|Centro-Oeste|      50|Mato Grosso do Sul|        MS|5002704|       Campo Grande|\n",
      "|3BBC4E75105501A10...|    335341722|          7|        Female|    Não declarada|                0|              null|    null|               null|                     null|                    null|   null|         null|                null|     null|     null|                 14|        5|Centro-Oeste|      53|  Distrito Federal|        DF|5300108|           Brasília|\n",
      "|06BFB4141F3FCAA9F...|    335341729|          7|          Male|    Não declarada|                0|              null|    null|               null|                     null|                    null|   null|         null|                null|     null|     null|                 14|        5|Centro-Oeste|      53|  Distrito Federal|        DF|5300108|           Brasília|\n",
      "|D22A05E703591A40E...|    335341730|          9|        Female|    Não declarada|                0|              null|    null|               null|                     null|                    null|   null|         null|                null|     null|     null|                 18|        5|Centro-Oeste|      53|  Distrito Federal|        DF|5300108|           Brasília|\n",
      "|CF5624EAD4337933B...|    335341757|         11|          Male|            Parda|                0|              null|    null|               null|                     null|                    null|   null|         null|                null|     null|     null|                 18|        5|Centro-Oeste|      50|Mato Grosso do Sul|        MS|5002704|       Campo Grande|\n",
      "|FCB33C59529276D65...|    335341781|          7|        Female|         Indígena|                0|              null|    null|               null|                     null|                    null|   null|         null|                null|     null|     null|                 14|        5|Centro-Oeste|      50|Mato Grosso do Sul|        MS|5005608|            Miranda|\n",
      "|6EADEA95DB3003D1C...|    335341836|          8|          Male|            Parda|                0|              null|    null|               null|                     null|                    null|   null|         null|                null|     null|     null|                 15|        5|Centro-Oeste|      52|             Goiás|        GO|5221858|Valparaíso de Goiás|\n",
      "|372B6C72264CEB422...|    335341877|          9|        Female|            Parda|                0|              null|    null|               null|                     null|                    null|   null|         null|                null|     null|     null|                 17|        5|Centro-Oeste|      52|             Goiás|        GO|5205901|         Corumbaíba|\n",
      "+--------------------+-------------+-----------+--------------+-----------------+-----------------+------------------+--------+-------------------+-------------------------+------------------------+-------+-------------+--------------------+---------+---------+-------------------+---------+------------+--------+------------------+----------+-------+-------------------+\n",
      "only showing top 20 rows\n",
      "\n"
     ]
    }
   ],
   "source": [
    "union_df.show()"
   ]
  },
  {
   "cell_type": "code",
   "execution_count": 133,
   "id": "b058d39c",
   "metadata": {},
   "outputs": [],
   "source": [
    "import json"
   ]
  },
  {
   "cell_type": "code",
   "execution_count": 137,
   "id": "1b9c1999",
   "metadata": {},
   "outputs": [],
   "source": [
    "parameters = \"\"\"\n",
    "{\n",
    "    \"source_path\": \"stage/censo_educacao/\",\n",
    "    \"target_path\": \"curated/censo_educacao/enrollments\",\n",
    "    \"tables\": [\n",
    "        \"matricula_co\",\n",
    "        \"matricula_norte\",\n",
    "        \"matricula_nordeste\",\n",
    "        \"matricula_sudeste\",\n",
    "        \"matricula_sul\"\n",
    "    ],\n",
    "    \"aux_tables\": [\n",
    "        \"states_and_cities\"\n",
    "    ]\n",
    "\n",
    "}\n",
    "\n",
    "\"\"\""
   ]
  },
  {
   "cell_type": "code",
   "execution_count": 138,
   "id": "d3532063",
   "metadata": {},
   "outputs": [],
   "source": [
    "parameters_json = json.loads(parameters)"
   ]
  },
  {
   "cell_type": "code",
   "execution_count": 140,
   "id": "b5d2319c",
   "metadata": {},
   "outputs": [
    {
     "data": {
      "text/plain": [
       "list"
      ]
     },
     "execution_count": 140,
     "metadata": {},
     "output_type": "execute_result"
    }
   ],
   "source": [
    "type(parameters_json[\"tables\"])"
   ]
  },
  {
   "cell_type": "markdown",
   "id": "c9758e18",
   "metadata": {},
   "source": [
    "# curated-to-dw"
   ]
  },
  {
   "cell_type": "code",
   "execution_count": null,
   "id": "d2546b19",
   "metadata": {},
   "outputs": [],
   "source": []
  },
  {
   "cell_type": "code",
   "execution_count": null,
   "id": "1094d41c",
   "metadata": {},
   "outputs": [],
   "source": []
  },
  {
   "cell_type": "code",
   "execution_count": null,
   "id": "e4735b0f",
   "metadata": {},
   "outputs": [],
   "source": []
  }
 ],
 "metadata": {
  "kernelspec": {
   "display_name": "Python 3",
   "language": "python",
   "name": "python3"
  },
  "language_info": {
   "codemirror_mode": {
    "name": "ipython",
    "version": 3
   },
   "file_extension": ".py",
   "mimetype": "text/x-python",
   "name": "python",
   "nbconvert_exporter": "python",
   "pygments_lexer": "ipython3",
   "version": "3.6.8"
  }
 },
 "nbformat": 4,
 "nbformat_minor": 5
}
